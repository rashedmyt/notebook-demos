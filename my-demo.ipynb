{
  "cells": [
    {
      "cell_type": "code",
      "execution_count": 1,
      "id": "97143d6d",
      "metadata": {},
      "outputs": [
        {
          "output_type": "display_data",
          "data": {
            "text/html": ["<iframe src='https://example.com' width=700 height=400></iframe>"]
          },
          "metadata": {}
        }
      ],
      "source": [
        "Hello World"
      ]
    }
  ],
  "metadata": {
    "kernelspec": {
      "display_name": "Simple Kernel",
      "language": "",
      "name": "simplekernel"
    },
    "nbformat": 4,
    "nbformat_minor": 5
  }
}
