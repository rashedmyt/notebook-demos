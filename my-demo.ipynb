{
  "cells": [],
  "metadata": {
    "kernelspec": {
      "display_name": "Simple Kernel",
      "language": "",
      "name": "simplekernel"
    },
    "nbformat": 4,
    "nbformat_minor": 5
  }
}
