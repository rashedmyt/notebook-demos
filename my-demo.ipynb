{
 "cells": [
  {
   "cell_type": "code",
   "execution_count": 1,
   "id": "67a5889c",
   "metadata": {},
   "outputs": [
    {
     "data": {
      "image/png": "[encoded data removed]",
      "text/plain": [
       "Hello World"
      ]
     },
     "metadata": {},
     "output_type": "display_data"
    }
   ],
   "source": [
    "Hello World!!"
   ]
  }
 ],
 "metadata": {
  "kernelspec": {
   "display_name": "Simple Kernel",
   "language": "",
   "name": "simplekernel"
  }
 },
 "nbformat": 4,
 "nbformat_minor": 5
}
