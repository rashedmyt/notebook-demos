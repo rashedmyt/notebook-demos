{
 "cells": [
  {
   "cell_type": "code",
   "execution_count": 1,
   "id": "67a5889c",
   "metadata": {},
   "outputs": [
    {
     "data": {
      "text/plain": [
       "Hello World"
      ],
      "text/html": [
       "<iframe src='https://www.example.com' width=700 height=400></iframe>"
      ],
      "image/png": "[encoded data removed]"
     },
     "metadata": {},
     "output_type": "display_data"
    }
   ],
   "source": [
    "Hello World!!"
   ]
  }
 ],
 "metadata": {
  "kernelspec": {
   "display_name": "Simple Kernel",
   "language": "",
   "name": "simplekernel"
  }
 },
 "nbformat": 4,
 "nbformat_minor": 5
}
