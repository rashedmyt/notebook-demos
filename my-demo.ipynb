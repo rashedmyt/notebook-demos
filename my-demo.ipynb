{
 "cells": [
  {
   "cell_type": "code",
   "execution_count": 1,
   "id": "7c62e61a-c47e-4d17-8c87-40439335f049",
   "metadata": {},
   "outputs": [
    {
     "data": {
      "text/html": [
       "<html><body><pre>a =\n",
       "\n",
       "123</pre></body></html>"
      ],
      "text/plain": [
       "a =\n",
       "\n",
       "123"
      ]
     },
     "execution_count": 1,
     "metadata": {},
     "output_type": "execute_result"
    }
   ],
   "source": [
    "a=123"
   ]
  },
  {
   "cell_type": "code",
   "execution_count": 2,
   "id": "b86e26b4-822d-4064-9604-a227ff829f80",
   "metadata": {},
   "outputs": [
    {
     "name": "stderr",
     "output_type": "stream",
     "text": [
      "Unrecognized function or variable 'rashed'."
     ]
    }
   ],
   "source": [
    "rashed"
   ]
  },
  {
   "cell_type": "code",
   "execution_count": 3,
   "id": "b11a9e30-c1d4-4cff-b032-a545944aa660",
   "metadata": {},
   "outputs": [
    {
     "name": "stderr",
     "output_type": "stream",
     "text": [
      "Warning: This is a warning"
     ]
    }
   ],
   "source": [
    "warning('This is a warning')"
   ]
  },
  {
   "cell_type": "code",
   "execution_count": 4,
   "id": "e4ac88db-3fdc-4886-a2fd-2a4eedacd27e",
   "metadata": {},
   "outputs": [
    {
     "data": {
      "image/png": "[encoded data removed]"
     },
     "execution_count": 4,
     "metadata": {},
     "output_type": "execute_result"
    }
   ],
   "source": [
    "plot(1:10)"
   ]
  },
  {
   "cell_type": "code",
   "execution_count": 5,
   "id": "c944b87a-3bbb-4b8f-a193-15938691e8bb",
   "metadata": {},
   "outputs": [
    {
     "data": {
      "text/latex": [
       "$ {e}^{b}$"
      ],
      "text/plain": [
       "f(b) =\n",
       "\n",
       "<math xmlns='http://www.w3.org/1998/Math/MathML' display='block' xmlns:mw='https://www.mathworks.com/MathML/extensions'>\n",
       "  <semantics>\n",
       "    <msup mw:template='power' mw:dataCategory='structure'>\n",
       "      <mrow mw:dataCategory='placeholder'>\n",
       "        <mi>b</mi>\n",
       "      </mrow>\n",
       "      <mrow mw:dataCategory='placeholder'>\n",
       "        <mn>2</mn>\n",
       "      </mrow>\n",
       "    </msup>\n",
       "    <annotation encoding='OutputVersion'>\n",
       "      1.0\n",
       "    </annotation>\n",
       "    <annotation encoding='Suggestions'>\n",
       "      [{\"entryType\":\"function\",\"ID\":\"vpa\",\"text\":\"Approximate numerically\",\"description\":\"Approximate numerically using variable precision floating point arithmetic\",\"code\":\"vpa(f)\",\"runOnInsert\":true,\"nargOut\":1},{\"entryType\":\"function\",\"ID\":\"subs\",\"text\":\"Substitute variables\",\"description\":\"Substitute variables for values in expression or matrix: replace '0's and run code manually\",\"code\":\"subs(f,[b],[0])\",\"runOnInsert\":false,\"nargOut\":1},{\"entryType\":\"menu\",\"ID\":\"menuCalculus\",\"text\":\"Applying calculus functions\",\"description\":\"Applying calculus functions\",\"children\":[{\"entryType\":\"function\",\"ID\":\"hessian\",\"text\":\"Compute Hessian matrix\",\"description\":\"Compute Hessian of scalar with respect to vector\",\"code\":\"hessian(f)\",\"runOnInsert\":true,\"nargOut\":1},{\"entryType\":\"function\",\"ID\":\"taylor\",\"text\":\"Compute Taylor expansion\",\"description\":\"Compute Taylor polynomial expansion at specific point\",\"code\":\"taylor(f,b)\",\"runOnInsert\":true,\"nargOut\":1},{\"entryType\":\"function\",\"ID\":\"gradient\",\"text\":\"Compute gradient\",\"description\":\"Compute gradient of scalar with respect to vector\",\"code\":\"gradient(f)\",\"runOnInsert\":true,\"nargOut\":1},{\"entryType\":\"function\",\"ID\":\"limit\",\"text\":\"Compute limit value\",\"description\":\"Take the limit of symbolic expression at specific limit point\",\"code\":\"limit(f,b,0)\",\"runOnInsert\":true,\"nargOut\":1},{\"entryType\":\"function\",\"ID\":\"poles\",\"text\":\"Compute poles of function\",\"description\":\"Compute poles of symbolic function\",\"code\":\"poles(f,b)\",\"runOnInsert\":true,\"nargOut\":1},{\"entryType\":\"function\",\"ID\":\"series\",\"text\":\"Compute series expansion\",\"description\":\"Compute Puiseux series approximation at specific point\",\"code\":\"series(f,b)\",\"runOnInsert\":true,\"nargOut\":1},{\"entryType\":\"function\",\"ID\":\"diff\",\"text\":\"Differentiate function\",\"description\":\"Compute derivative of function with respect to specific variable\",\"code\":\"diff(f,b)\",\"runOnInsert\":true,\"nargOut\":1},{\"entryType\":\"function\",\"ID\":\"int\",\"text\":\"Integrate function\",\"description\":\"Compute indefinite integral of function with respect to specific variable\",\"code\":\"int(f,b)\",\"runOnInsert\":true,\"nargOut\":1}]},{\"entryType\":\"menu\",\"ID\":\"menuTransform\",\"text\":\"Computing integral transforms\",\"description\":\"Computing integral transforms\",\"children\":[{\"entryType\":\"function\",\"ID\":\"fourier\",\"text\":\"Compute Fourier transform\",\"description\":\"Compute Fourier transform\",\"code\":\"fourier(f)\",\"runOnInsert\":true,\"nargOut\":1},{\"entryType\":\"function\",\"ID\":\"htrans\",\"text\":\"Compute Hilbert transform\",\"description\":\"Compute Hilbert transform\",\"code\":\"htrans(f)\",\"runOnInsert\":true,\"nargOut\":1},{\"entryType\":\"function\",\"ID\":\"laplace\",\"text\":\"Compute Laplace transform\",\"description\":\"Compute Laplace transform\",\"code\":\"laplace(f)\",\"runOnInsert\":true,\"nargOut\":1},{\"entryType\":\"function\",\"ID\":\"ztrans\",\"text\":\"Compute Z-transform\",\"description\":\"Compute Z-transform\",\"code\":\"ztrans(f)\",\"runOnInsert\":true,\"nargOut\":1},{\"entryType\":\"separator\",\"ID\":\"menuSeparator\"},{\"entryType\":\"function\",\"ID\":\"ifourier\",\"text\":\"Compute inverse Fourier transform\",\"description\":\"Compute inverse Fourier transform\",\"code\":\"ifourier(f)\",\"runOnInsert\":true,\"nargOut\":1},{\"entryType\":\"function\",\"ID\":\"ihtrans\",\"text\":\"Compute inverse Hilbert transform\",\"description\":\"Compute inverse Hilbert transform\",\"code\":\"ihtrans(f)\",\"runOnInsert\":true,\"nargOut\":1},{\"entryType\":\"function\",\"ID\":\"ilaplace\",\"text\":\"Compute inverse Laplace transform\",\"description\":\"Compute inverse Laplace transform\",\"code\":\"ilaplace(f)\",\"runOnInsert\":true,\"nargOut\":1},{\"entryType\":\"function\",\"ID\":\"iztrans\",\"text\":\"Compute inverse Z-transform\",\"description\":\"Compute inverse Z-transform\",\"code\":\"iztrans(f)\",\"runOnInsert\":true,\"nargOut\":1}]},{\"entryType\":\"menu\",\"ID\":\"menuNumber\",\"text\":\"Plotting functions\",\"description\":\"Plotting functions, expressions, and equations\",\"children\":[{\"entryType\":\"function\",\"ID\":\"fplot\",\"text\":\"Plot function\",\"description\":\"Plot function f(x) or expression\",\"code\":\"fplot(f)\",\"runOnInsert\":true,\"nargOut\":0},{\"entryType\":\"function\",\"ID\":\"fimplicit\",\"text\":\"Plot implicit equation in 2-D\",\"description\":\"Plot 2-D implicit equation or function f(x,y)\",\"code\":\"fimplicit(f)\",\"runOnInsert\":true,\"nargOut\":0},{\"entryType\":\"function\",\"ID\":\"fimplicit3\",\"text\":\"Plot implicit equation in 3-D\",\"description\":\"Plot 3-D implicit equation or function f(x,y,z)\",\"code\":\"fimplicit3(f)\",\"runOnInsert\":true,\"nargOut\":0}]},{\"entryType\":\"menu\",\"ID\":\"menuRewriting\",\"text\":\"Rewriting and simplifying expressions\",\"description\":\"Rewriting and simplifying symbolic expressions\",\"children\":[{\"entryType\":\"task\",\"ID\":\"taskSimplifyCombine\",\"text\":\"Combine expression\",\"description\":\"Combine terms of the same algebraic structure\",\"pseudoCode\":\"The Simplify Symbolic Expression task will be inserted here with Method set to 'Combine'\",\"appConfig\":{\"appIdentifier\":\"matlab.internal.symbolic.task.Simplify\",\"runOnInsert\":true},\"appState\":{\"Expression\":\"f\",\"DisplayExpression\":false,\"Method\":\"combine\"}},{\"entryType\":\"task\",\"ID\":\"taskSimplifyExpand\",\"text\":\"Expand expression\",\"description\":\"Write each element of expression as product of its factors\",\"pseudoCode\":\"The Simplify Symbolic Expression task will be inserted here with Method set to 'Expand'\",\"appConfig\":{\"appIdentifier\":\"matlab.internal.symbolic.task.Simplify\",\"runOnInsert\":true},\"appState\":{\"Expression\":\"f\",\"DisplayExpression\":false,\"Method\":\"expand\"}},{\"entryType\":\"task\",\"ID\":\"taskSimplifyRewrite\",\"text\":\"Rewrite expression\",\"description\":\"Rewrite expression in terms of specific function\",\"pseudoCode\":\"The Simplify Symbolic Expression task will be inserted here with Method set to 'Rewrite'\",\"appConfig\":{\"appIdentifier\":\"matlab.internal.symbolic.task.Simplify\",\"runOnInsert\":true},\"appState\":{\"Expression\":\"f\",\"DisplayExpression\":false,\"Method\":\"rewrite\"}},{\"entryType\":\"task\",\"ID\":\"taskSimplifySimplify\",\"text\":\"Simplify expression\",\"description\":\"Simplify each element of matrix or expression\",\"pseudoCode\":\"The Simplify Symbolic Expression task will be inserted here with Method set to 'Simplify'\",\"appConfig\":{\"appIdentifier\":\"matlab.internal.symbolic.task.Simplify\",\"runOnInsert\":true},\"appState\":{\"Expression\":\"f\",\"DisplayExpression\":false,\"Method\":\"simplify\"}},{\"entryType\":\"task\",\"ID\":\"taskSimplifySimplifyFraction\",\"text\":\"Simplify fractions\",\"description\":\"Compute simplified form of rational expression\",\"pseudoCode\":\"The Simplify Symbolic Expression task will be inserted here with Method set to 'Simplify Fraction'\",\"appConfig\":{\"appIdentifier\":\"matlab.internal.symbolic.task.Simplify\",\"runOnInsert\":true},\"appState\":{\"Expression\":\"f\",\"DisplayExpression\":false,\"Method\":\"simplifyFraction\"}}]},{\"entryType\":\"menu\",\"ID\":\"menuEquation\",\"text\":\"Solving equations\",\"description\":\"Solving and rewriting equations\",\"children\":[{\"entryType\":\"task\",\"ID\":\"taskSolve\",\"text\":\"Solve equation analytically\",\"description\":\"Compute analytical solution of algebraic equation\",\"pseudoCode\":\"The Solve Symbolic Equation task will be inserted here\",\"appConfig\":{\"appIdentifier\":\"matlab.internal.symbolic.task.Solve\",\"runOnInsert\":true},\"appState\":{\"Equation\":\"f\",\"DisplayEquation\":false,\"Variables\":\"b\",\"VariablesInEquation\":\"b\",\"VariablesItems\":[\"b\"]}},{\"entryType\":\"function\",\"ID\":\"vpasolve\",\"text\":\"Solve equation numerically\",\"description\":\"Compute numeric solution of algebraic equation using variable precision floating point arithmetic\",\"code\":\"vpasolve(f,b)\",\"runOnInsert\":true,\"nargOut\":1}]}]\n",
       "    </annotation>\n",
       "  </semantics>\n",
       "</math>\n",
       "<script>MathJax.Hub.Config({displayAlign:''left''});</script>"
      ]
     },
     "execution_count": 5,
     "metadata": {},
     "output_type": "execute_result"
    }
   ],
   "source": [
    "syms b;\n",
    "f(b) = b^2"
   ]
  },
  {
   "cell_type": "code",
   "execution_count": 6,
   "id": "8c229d2c-72d7-48e3-9d81-f403bd48b847",
   "metadata": {},
   "outputs": [
    {
     "data": {
      "text/html": [
       "<html><body><pre>ans =\n",
       "100x10 <a href=\"matlab:helpPopup table\" class=\"headerDataType\">table</a>\n",
       "      <strong>LastName</strong>        <strong>Gender</strong>      <strong>Age</strong>              <strong>Location</strong>               <strong>Height</strong>    <strong>Weight</strong>    <strong>Smoker</strong>    <strong>Systolic</strong>    <strong>Diastolic</strong>    <strong>SelfAssessedHealthStatus</strong>\n",
       "    <strong>____________</strong>    <strong>__________</strong>    <strong>___</strong>    <strong>_____________________________</strong>    <strong>______</strong>    <strong>______</strong>    <strong>______</strong>    <strong>________</strong>    <strong>_________</strong>    <strong>________________________</strong>\n",
       "\n",
       "    {'Smith'   }    {'Male'  }    38     {'County General Hospital'  }      71       176        1         124          93             {'Excellent'}      \n",
       "    {'Johnson' }    {'Male'  }    43     {'VA Hospital'              }      69       163        0         109          77             {'Fair'     }      \n",
       "    {'Williams'}    {'Female'}    38     {'St. Mary's Medical Center'}      64       131        0         125          83             {'Good'     }      \n",
       "    {'Jones'   }    {'Female'}    40     {'VA Hospital'              }      67       133        0         117          75             {'Fair'     }      \n",
       "    {'Brown'   }    {'Female'}    49     {'County General Hospital'  }      64       119        0         122          80             {'Good'     }      \n",
       "    {'Davis'   }    {'Female'}    46     {'St. Mary's Medical Center'}      68       142        0         121          70             {'Good'     }      \n",
       "    {'Miller'  }    {'Female'}    33     {'VA Hospital'              }      64       142        1         130          88             {'Good'     }      \n",
       "    {'Wilson'  }    {'Male'  }    40     {'VA Hospital'              }      68       180        0         115          82             {'Good'     }      \n",
       "    {'Moore'   }    {'Male'  }    28     {'St. Mary's Medical Center'}      68       183        0         115          78             {'Excellent'}      \n",
       "    {'Taylor'  }    {'Female'}    31     {'County General Hospital'  }      66       132        0         118          86             {'Excellent'}      \n",
       "    {'Anderson'}    {'Female'}    45     {'County General Hospital'  }      68       128        0         114          77             {'Excellent'}      \n",
       "    {'Thomas'  }    {'Female'}    42     {'St. Mary's Medical Center'}      66       137        0         115          68             {'Poor'     }      \n",
       "    {'Jackson' }    {'Male'  }    25     {'VA Hospital'              }      71       174        0         127          74             {'Poor'     }      \n",
       "    {'White'   }    {'Male'  }    39     {'VA Hospital'              }      72       202        1         130          95             {'Excellent'}      \n",
       "    {'Harris'  }    {'Female'}    36     {'St. Mary's Medical Center'}      65       129        0         114          79             {'Good'     }      \n",
       "    {'Martin'  }    {'Male'  }    48     {'VA Hospital'              }      71       181        1         130          92             {'Good'     }      \n",
       "</pre></body></html>"
      ],
      "text/plain": [
       "ans =\n",
       "100x10 <a href=\"matlab:helpPopup table\" class=\"headerDataType\">table</a>\n",
       "      <strong>LastName</strong>        <strong>Gender</strong>      <strong>Age</strong>              <strong>Location</strong>               <strong>Height</strong>    <strong>Weight</strong>    <strong>Smoker</strong>    <strong>Systolic</strong>    <strong>Diastolic</strong>    <strong>SelfAssessedHealthStatus</strong>\n",
       "    <strong>____________</strong>    <strong>__________</strong>    <strong>___</strong>    <strong>_____________________________</strong>    <strong>______</strong>    <strong>______</strong>    <strong>______</strong>    <strong>________</strong>    <strong>_________</strong>    <strong>________________________</strong>\n",
       "\n",
       "    {'Smith'   }    {'Male'  }    38     {'County General Hospital'  }      71       176        1         124          93             {'Excellent'}      \n",
       "    {'Johnson' }    {'Male'  }    43     {'VA Hospital'              }      69       163        0         109          77             {'Fair'     }      \n",
       "    {'Williams'}    {'Female'}    38     {'St. Mary's Medical Center'}      64       131        0         125          83             {'Good'     }      \n",
       "    {'Jones'   }    {'Female'}    40     {'VA Hospital'              }      67       133        0         117          75             {'Fair'     }      \n",
       "    {'Brown'   }    {'Female'}    49     {'County General Hospital'  }      64       119        0         122          80             {'Good'     }      \n",
       "    {'Davis'   }    {'Female'}    46     {'St. Mary's Medical Center'}      68       142        0         121          70             {'Good'     }      \n",
       "    {'Miller'  }    {'Female'}    33     {'VA Hospital'              }      64       142        1         130          88             {'Good'     }      \n",
       "    {'Wilson'  }    {'Male'  }    40     {'VA Hospital'              }      68       180        0         115          82             {'Good'     }      \n",
       "    {'Moore'   }    {'Male'  }    28     {'St. Mary's Medical Center'}      68       183        0         115          78             {'Excellent'}      \n",
       "    {'Taylor'  }    {'Female'}    31     {'County General Hospital'  }      66       132        0         118          86             {'Excellent'}      \n",
       "    {'Anderson'}    {'Female'}    45     {'County General Hospital'  }      68       128        0         114          77             {'Excellent'}      \n",
       "    {'Thomas'  }    {'Female'}    42     {'St. Mary's Medical Center'}      66       137        0         115          68             {'Poor'     }      \n",
       "    {'Jackson' }    {'Male'  }    25     {'VA Hospital'              }      71       174        0         127          74             {'Poor'     }      \n",
       "    {'White'   }    {'Male'  }    39     {'VA Hospital'              }      72       202        1         130          95             {'Excellent'}      \n",
       "    {'Harris'  }    {'Female'}    36     {'St. Mary's Medical Center'}      65       129        0         114          79             {'Good'     }      \n",
       "    {'Martin'  }    {'Male'  }    48     {'VA Hospital'              }      71       181        1         130          92             {'Good'     }      \n"
      ]
     },
     "execution_count": 6,
     "metadata": {},
     "output_type": "execute_result"
    }
   ],
   "source": [
    "readtable(\"patients\")"
   ]
  },
  {
   "cell_type": "code",
   "execution_count": 7,
   "id": "cde588dc-d0d9-44b0-a16c-cecccfe97011",
   "metadata": {},
   "outputs": [
    {
     "data": {
      "text/html": [
       "<html><body><pre>t = 2x2\n",
       "   1   1\n",
       "   1   1\n",
       "</pre></body></html>"
      ],
      "text/plain": [
       "t = 2x2\n",
       "   1   1\n",
       "   1   1\n"
      ]
     },
     "execution_count": 7,
     "metadata": {},
     "output_type": "execute_result"
    }
   ],
   "source": [
    "t = ones(2,'uint8')"
   ]
  },
  {
   "cell_type": "code",
   "execution_count": null,
   "id": "fc287cd9-bd30-4fd9-93be-9f337cd1bd57",
   "metadata": {},
   "outputs": [],
   "source": []
  }
 ],
 "metadata": {
  "kernelspec": {
   "display_name": "MATLAB Kernel",
   "language": "matlab",
   "name": "matlab_jupyter_kernel"
  },
  "language_info": {
   "file_extension": ".m",
   "mimetype": "text/x-matlab",
   "name": "matlab"
  }
 },
 "nbformat": 4,
 "nbformat_minor": 5
}
