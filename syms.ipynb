{
 "cells": [
  {
   "cell_type": "code",
   "execution_count": 1,
   "id": "67a5889c",
   "metadata": {},
   "outputs": [
    {
     "data": {
      "text/html": [
       "a =<br>${\mathrm{e}}^b$"
      ],
     },
     "metadata": {},
     "output_type": "execute_result"
    }
   ],
   "source": [
    "syms a b",
    "a = exp(b)",
   ]
  },
  {
   "cell_type": "code",
   "execution_count": null,
   "id": "97143d6d",
   "metadata": {},
   "outputs": [],
   "source": []
  }
 ],
 "metadata": {
  "kernelspec": {
   "display_name": "Simple Kernel",
   "language": "",
   "name": "simplekernel"
  },
  "language_info": {
   "file_extension": ".txt",
   "mimetype": "text/plain",
   "name": "Any text"
  }
 },
 "nbformat": 4,
 "nbformat_minor": 5
}
