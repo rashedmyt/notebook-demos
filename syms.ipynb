{
 "cells": [
  {
   "cell_type": "code",
   "execution_count": 1,
   "id": "e5a1df91-97fa-4bb5-bbd2-735bfe2664ff",
   "metadata": {
    "tags": []
   },
   "outputs": [
    {
     "data": {
      "text/html": [
       "a =<br>${\\mathrm{e}}^b$"
      ],
      "text/plain": []
     },
     "execution_count": 1,
     "metadata": {},
     "output_type": "execute_result"
    }
   ],
   "source": [
    "a"
   ]
  },
  {
   "cell_type": "code",
   "execution_count": 5,
   "id": "c944b87a-3bbb-4b8f-a193-15938691e8bb",
   "metadata": {},
   "outputs": [
    {
     "data": {
      "text/html": [
       "<math xmlns='http://www.w3.org/1998/Math/MathML' display='block' xmlns:mw='https://www.mathworks.com/MathML/extensions'>\n",
       "  <semantics>\n",
       "    <mrow mw:template='matrix' mw:dataCategory='structure'>\n",
       "      <mo form='prefix' mw:dataCategory='static'>(</mo>\n",
       "      <mtable>\n",
       "        <mtr>\n",
       "          <mtd>\n",
       "            <msub mw:varname='x1'>\n",
       "              <mi>x</mi>\n",
       "              <mn>1</mn>\n",
       "            </msub>\n",
       "          </mtd>\n",
       "        </mtr>\n",
       "        <mtr>\n",
       "          <mtd>\n",
       "            <msub mw:varname='x2'>\n",
       "              <mi>x</mi>\n",
       "              <mn>2</mn>\n",
       "            </msub>\n",
       "          </mtd>\n",
       "        </mtr>\n",
       "      </mtable>\n",
       "      <mo form='postfix' mw:dataCategory='static'>)</mo>\n",
       "    </mrow>\n",
       "    <annotation encoding='OutputVersion'>\n",
       "      1.0\n",
       "    </annotation>\n",
       "    <annotation encoding='Suggestions'>\n",
       "      [{\"entryType\":\"function\",\"ID\":\"jacobian\",\"text\":\"Compute Jacobian matrix of vector\",\"description\":\"Compute Jacobian matrix\",\"code\":\"jacobian(x)\",\"runOnInsert\":true,\"nargOut\":1},{\"entryType\":\"function\",\"ID\":\"diff\",\"text\":\"Differentiate function\",\"description\":\"Compute derivative of function with respect to specific variable\",\"code\":\"diff(x,x1)\",\"runOnInsert\":true,\"nargOut\":1},{\"entryType\":\"function\",\"ID\":\"int\",\"text\":\"Integrate function\",\"description\":\"Compute indefinite integral of function with respect to specific variable\",\"code\":\"int(x,x1)\",\"runOnInsert\":true,\"nargOut\":1},{\"entryType\":\"menu\",\"ID\":\"menuTransform\",\"text\":\"Computing integral transforms\",\"description\":\"Computing integral transforms\",\"children\":[{\"entryType\":\"function\",\"ID\":\"fourier\",\"text\":\"Compute Fourier transform\",\"description\":\"Compute Fourier transform\",\"code\":\"fourier(x)\",\"runOnInsert\":true,\"nargOut\":1},{\"entryType\":\"function\",\"ID\":\"htrans\",\"text\":\"Compute Hilbert transform\",\"description\":\"Compute Hilbert transform\",\"code\":\"htrans(x)\",\"runOnInsert\":true,\"nargOut\":1},{\"entryType\":\"function\",\"ID\":\"laplace\",\"text\":\"Compute Laplace transform\",\"description\":\"Compute Laplace transform\",\"code\":\"laplace(x)\",\"runOnInsert\":true,\"nargOut\":1},{\"entryType\":\"function\",\"ID\":\"ztrans\",\"text\":\"Compute Z-transform\",\"description\":\"Compute Z-transform\",\"code\":\"ztrans(x)\",\"runOnInsert\":true,\"nargOut\":1},{\"entryType\":\"separator\",\"ID\":\"menuSeparator\"},{\"entryType\":\"function\",\"ID\":\"ifourier\",\"text\":\"Compute inverse Fourier transform\",\"description\":\"Compute inverse Fourier transform\",\"code\":\"ifourier(x)\",\"runOnInsert\":true,\"nargOut\":1},{\"entryType\":\"function\",\"ID\":\"ihtrans\",\"text\":\"Compute inverse Hilbert transform\",\"description\":\"Compute inverse Hilbert transform\",\"code\":\"ihtrans(x)\",\"runOnInsert\":true,\"nargOut\":1},{\"entryType\":\"function\",\"ID\":\"ilaplace\",\"text\":\"Compute inverse Laplace transform\",\"description\":\"Compute inverse Laplace transform\",\"code\":\"ilaplace(x)\",\"runOnInsert\":true,\"nargOut\":1},{\"entryType\":\"function\",\"ID\":\"iztrans\",\"text\":\"Compute inverse Z-transform\",\"description\":\"Compute inverse Z-transform\",\"code\":\"iztrans(x)\",\"runOnInsert\":true,\"nargOut\":1}]},{\"entryType\":\"menu\",\"ID\":\"menuNumber\",\"text\":\"Plotting functions\",\"description\":\"Plotting functions, expressions, and equations\",\"children\":[{\"entryType\":\"function\",\"ID\":\"fimplicit\",\"text\":\"Plot implicit equation in 2-D\",\"description\":\"Plot 2-D implicit equation or function f(x,y)\",\"code\":\"fimplicit(x)\",\"runOnInsert\":true,\"nargOut\":0},{\"entryType\":\"function\",\"ID\":\"fimplicit3\",\"text\":\"Plot implicit equation in 3-D\",\"description\":\"Plot 3-D implicit equation or function f(x,y,z)\",\"code\":\"fimplicit3(x)\",\"runOnInsert\":true,\"nargOut\":0},{\"entryType\":\"function\",\"ID\":\"fmesh\",\"text\":\"Plot mesh in 3-D\",\"description\":\"Plot 3-D mesh from function f(x,y) or expression\",\"code\":\"fmesh(x)\",\"runOnInsert\":true,\"nargOut\":0},{\"entryType\":\"function\",\"ID\":\"fsurf\",\"text\":\"Plot surface in 3-D\",\"description\":\"Plot 3-D surface from function f(x,y) or expression\",\"code\":\"fsurf(x)\",\"runOnInsert\":true,\"nargOut\":0}]},{\"entryType\":\"menu\",\"ID\":\"menuEquation\",\"text\":\"Solving equations\",\"description\":\"Solving and rewriting equations\",\"children\":[{\"entryType\":\"task\",\"ID\":\"taskSolve\",\"text\":\"Solve equation analytically\",\"description\":\"Compute analytical solution of algebraic equation\",\"pseudoCode\":\"The Solve Symbolic Equation task will be inserted here\",\"appConfig\":{\"appIdentifier\":\"matlab.internal.symbolic.task.Solve\",\"runOnInsert\":true},\"appState\":{\"Equation\":\"x\",\"DisplayEquation\":false,\"Variables\":\"x1\",\"VariablesInEquation\":\"x1, x2\",\"VariablesItems\":[\"x1\",\"x2\"]}},{\"entryType\":\"function\",\"ID\":\"vpasolve\",\"text\":\"Solve equation numerically\",\"description\":\"Compute numeric solution of algebraic equation using variable precision floating point arithmetic\",\"code\":\"vpasolve(x,x1)\",\"runOnInsert\":true,\"nargOut\":1}]}]\n",
       "    </annotation>\n",
       "  </semantics>\n",
       "</math>\n"
      ],
     },
     "execution_count": 5,
     "metadata": {},
     "output_type": "execute_result"
    }
   ],
   "source": [
    "syms b;\n",
    "f(b) = b^2"
   ]
  }
 ],
 "metadata": {
  "kernelspec": {
   "display_name": "MATLAB Kernel",
   "language": "matlab",
   "name": "jupyter_matlab_kernel"
  },
  "language_info": {
   "file_extension": ".m",
   "mimetype": "text/x-matlab",
   "name": "matlab"
  }
 },
 "nbformat": 4,
 "nbformat_minor": 5
}
