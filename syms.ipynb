{
 "cells": [
  {
   "cell_type": "code",
   "execution_count": 1,
   "id": "e5a1df91-97fa-4bb5-bbd2-735bfe2664ff",
   "metadata": {
    "tags": []
   },
   "outputs": [
    {
     "data": {
      "text/html": [
       "a =<br>${\\mathrm{e}}^b$"
      ],
      "text/plain": []
     },
     "execution_count": 1,
     "metadata": {},
     "output_type": "execute_result"
    }
   ],
   "source": [
    "a"
   ]
  },
  {
   "cell_type": "code",
   "execution_count": 5,
   "id": "5dd386d0-16bb-41ed-b8e6-e635532bb18d",
   "metadata": {
    "tags": []
   },
   "outputs": [
    {
     "data": {
      "text/html": [
       "ans =<br>$\\int_{0}^{\\infty } f\\left(x\\right) \\,d x$"
      ],
      "text/plain": []
     },
     "execution_count": 5,
     "metadata": {},
     "output_type": "execute_result"
    }
   ],
   "source": [
    "ans"
   ]
  },
  {
   "cell_type": "code",
   "execution_count": 9,
   "id": "d17b3389-b6e9-45dc-8e14-ae260239af67",
   "metadata": {
    "tags": []
   },
   "outputs": [
    {
     "data": {
      "text/html": [
       "hessf =<br>$\\begin{array}{l}\n",
       "\\left(\\begin{array}{cc}\n",
       "\\frac{6\\,{{\\left(3\\,{x_1 }^2 -1\\right)}}^2 -36\\,x_1 \\,{\\left(-{x_1 }^3 +x_1 +x_2 \\right)}+2}{\\sigma_2 }-\\frac{{\\sigma_3 }^2 }{{\\sigma_2 }^2 } & \\sigma_1 \\\\\n",
       "\\sigma_1  & \\frac{6}{\\sigma_2 }-\\frac{{{\\left(-6\\,{x_1 }^3 +6\\,x_1 +6\\,x_2 \\right)}}^2 }{{\\sigma_2 }^2 }\n",
       "\\end{array}\\right)\\\\\n",
       "\\mathrm{}\\\\\n",
       "\\textrm{where}\\\\\n",
       "\\mathrm{}\\\\\n",
       "\\;\\;\\sigma_1 =\\frac{{\\left(-6\\,{x_1 }^3 +6\\,x_1 +6\\,x_2 \\right)}\\,\\sigma_3 }{{\\sigma_2 }^2 }-\\frac{18\\,{x_1 }^2 -6}{\\sigma_2 }\\\\\n",
       "\\mathrm{}\\\\\n",
       "\\;\\;\\sigma_2 ={{\\left(x_1 -\\frac{4}{3}\\right)}}^2 +3\\,{{\\left(-{x_1 }^3 +x_1 +x_2 \\right)}}^2 +1\\\\\n",
       "\\mathrm{}\\\\\n",
       "\\;\\;\\sigma_3 =6\\,{\\left(3\\,{x_1 }^2 -1\\right)}\\,{\\left(-{x_1 }^3 +x_1 +x_2 \\right)}-2\\,x_1 +\\frac{8}{3}\n",
       "\\end{array}$"
      ]
     },
     "execution_count": 9,
     "metadata": {},
     "output_type": "execute_result"
    }
   ],
   "source": [
    "hessf"
   ]
  },
  {
   "cell_type": "code",
   "execution_count": 10,
   "id": "ec3c5834-5ff8-4f6c-a731-51e406c1f6bd",
   "metadata": {
    "tags": []
   },
   "outputs": [
    {
     "data": {
      "text/html": [
       "gradf =<br>$\\begin{array}{l}\n",
       "\\left(\\begin{array}{c}\n",
       "-\\frac{6\\,{\\left(3\\,{x_1 }^2 -1\\right)}\\,{\\left(-{x_1 }^3 +x_1 +x_2 \\right)}-2\\,x_1 +\\frac{8}{3}}{\\sigma_1 }\\\\\n",
       "\\frac{-6\\,{x_1 }^3 +6\\,x_1 +6\\,x_2 }{\\sigma_1 }\n",
       "\\end{array}\\right)\\\\\n",
       "\\mathrm{}\\\\\n",
       "\\textrm{where}\\\\\n",
       "\\mathrm{}\\\\\n",
       "\\;\\;\\sigma_1 ={{\\left(x_1 -\\frac{4}{3}\\right)}}^2 +3\\,{{\\left(-{x_1 }^3 +x_1 +x_2 \\right)}}^2 +1\n",
       "\\end{array}$"
      ]
     },
     "execution_count": 10,
     "metadata": {},
     "output_type": "execute_result"
    }
   ],
   "source": [
    "gradf"
   ]
  },
  {
   "cell_type": "code",
   "execution_count": 5,
   "id": "c944b87a-3bbb-4b8f-a193-15938691e8bb",
   "metadata": {},
   "outputs": [
    {
     "data": {
      "text/html": [
       "<math xmlns='http://www.w3.org/1998/Math/MathML' display='block' xmlns:mw='https://www.mathworks.com/MathML/extensions'>\n",
       "  <semantics>\n",
       "    <msup mw:template='power' mw:dataCategory='structure'>\n",
       "      <mrow mw:dataCategory='placeholder'>\n",
       "        <mi>b</mi>\n",
       "      </mrow>\n",
       "      <mrow mw:dataCategory='placeholder'>\n",
       "        <mn>2</mn>\n",
       "      </mrow>\n",
       "    </msup>\n",
       "    <annotation encoding='OutputVersion'>\n",
       "      1.0\n",
       "    </annotation>\n",
       "    <annotation encoding='Suggestions'>\n",
       "      [{\"entryType\":\"function\",\"ID\":\"vpa\",\"text\":\"Approximate numerically\",\"description\":\"Approximate numerically using variable precision floating point arithmetic\",\"code\":\"vpa(f)\",\"runOnInsert\":true,\"nargOut\":1},{\"entryType\":\"function\",\"ID\":\"subs\",\"text\":\"Substitute variables\",\"description\":\"Substitute variables for values in expression or matrix: replace '0's and run code manually\",\"code\":\"subs(f,[b],[0])\",\"runOnInsert\":false,\"nargOut\":1},{\"entryType\":\"menu\",\"ID\":\"menuCalculus\",\"text\":\"Applying calculus functions\",\"description\":\"Applying calculus functions\",\"children\":[{\"entryType\":\"function\",\"ID\":\"hessian\",\"text\":\"Compute Hessian matrix\",\"description\":\"Compute Hessian of scalar with respect to vector\",\"code\":\"hessian(f)\",\"runOnInsert\":true,\"nargOut\":1},{\"entryType\":\"function\",\"ID\":\"taylor\",\"text\":\"Compute Taylor expansion\",\"description\":\"Compute Taylor polynomial expansion at specific point\",\"code\":\"taylor(f,b)\",\"runOnInsert\":true,\"nargOut\":1},{\"entryType\":\"function\",\"ID\":\"gradient\",\"text\":\"Compute gradient\",\"description\":\"Compute gradient of scalar with respect to vector\",\"code\":\"gradient(f)\",\"runOnInsert\":true,\"nargOut\":1},{\"entryType\":\"function\",\"ID\":\"limit\",\"text\":\"Compute limit value\",\"description\":\"Take the limit of symbolic expression at specific limit point\",\"code\":\"limit(f,b,0)\",\"runOnInsert\":true,\"nargOut\":1},{\"entryType\":\"function\",\"ID\":\"poles\",\"text\":\"Compute poles of function\",\"description\":\"Compute poles of symbolic function\",\"code\":\"poles(f,b)\",\"runOnInsert\":true,\"nargOut\":1},{\"entryType\":\"function\",\"ID\":\"series\",\"text\":\"Compute series expansion\",\"description\":\"Compute Puiseux series approximation at specific point\",\"code\":\"series(f,b)\",\"runOnInsert\":true,\"nargOut\":1},{\"entryType\":\"function\",\"ID\":\"diff\",\"text\":\"Differentiate function\",\"description\":\"Compute derivative of function with respect to specific variable\",\"code\":\"diff(f,b)\",\"runOnInsert\":true,\"nargOut\":1},{\"entryType\":\"function\",\"ID\":\"int\",\"text\":\"Integrate function\",\"description\":\"Compute indefinite integral of function with respect to specific variable\",\"code\":\"int(f,b)\",\"runOnInsert\":true,\"nargOut\":1}]},{\"entryType\":\"menu\",\"ID\":\"menuTransform\",\"text\":\"Computing integral transforms\",\"description\":\"Computing integral transforms\",\"children\":[{\"entryType\":\"function\",\"ID\":\"fourier\",\"text\":\"Compute Fourier transform\",\"description\":\"Compute Fourier transform\",\"code\":\"fourier(f)\",\"runOnInsert\":true,\"nargOut\":1},{\"entryType\":\"function\",\"ID\":\"htrans\",\"text\":\"Compute Hilbert transform\",\"description\":\"Compute Hilbert transform\",\"code\":\"htrans(f)\",\"runOnInsert\":true,\"nargOut\":1},{\"entryType\":\"function\",\"ID\":\"laplace\",\"text\":\"Compute Laplace transform\",\"description\":\"Compute Laplace transform\",\"code\":\"laplace(f)\",\"runOnInsert\":true,\"nargOut\":1},{\"entryType\":\"function\",\"ID\":\"ztrans\",\"text\":\"Compute Z-transform\",\"description\":\"Compute Z-transform\",\"code\":\"ztrans(f)\",\"runOnInsert\":true,\"nargOut\":1},{\"entryType\":\"separator\",\"ID\":\"menuSeparator\"},{\"entryType\":\"function\",\"ID\":\"ifourier\",\"text\":\"Compute inverse Fourier transform\",\"description\":\"Compute inverse Fourier transform\",\"code\":\"ifourier(f)\",\"runOnInsert\":true,\"nargOut\":1},{\"entryType\":\"function\",\"ID\":\"ihtrans\",\"text\":\"Compute inverse Hilbert transform\",\"description\":\"Compute inverse Hilbert transform\",\"code\":\"ihtrans(f)\",\"runOnInsert\":true,\"nargOut\":1},{\"entryType\":\"function\",\"ID\":\"ilaplace\",\"text\":\"Compute inverse Laplace transform\",\"description\":\"Compute inverse Laplace transform\",\"code\":\"ilaplace(f)\",\"runOnInsert\":true,\"nargOut\":1},{\"entryType\":\"function\",\"ID\":\"iztrans\",\"text\":\"Compute inverse Z-transform\",\"description\":\"Compute inverse Z-transform\",\"code\":\"iztrans(f)\",\"runOnInsert\":true,\"nargOut\":1}]},{\"entryType\":\"menu\",\"ID\":\"menuNumber\",\"text\":\"Plotting functions\",\"description\":\"Plotting functions, expressions, and equations\",\"children\":[{\"entryType\":\"function\",\"ID\":\"fplot\",\"text\":\"Plot function\",\"description\":\"Plot function f(x) or expression\",\"code\":\"fplot(f)\",\"runOnInsert\":true,\"nargOut\":0},{\"entryType\":\"function\",\"ID\":\"fimplicit\",\"text\":\"Plot implicit equation in 2-D\",\"description\":\"Plot 2-D implicit equation or function f(x,y)\",\"code\":\"fimplicit(f)\",\"runOnInsert\":true,\"nargOut\":0},{\"entryType\":\"function\",\"ID\":\"fimplicit3\",\"text\":\"Plot implicit equation in 3-D\",\"description\":\"Plot 3-D implicit equation or function f(x,y,z)\",\"code\":\"fimplicit3(f)\",\"runOnInsert\":true,\"nargOut\":0}]},{\"entryType\":\"menu\",\"ID\":\"menuRewriting\",\"text\":\"Rewriting and simplifying expressions\",\"description\":\"Rewriting and simplifying symbolic expressions\",\"children\":[{\"entryType\":\"task\",\"ID\":\"taskSimplifyCombine\",\"text\":\"Combine expression\",\"description\":\"Combine terms of the same algebraic structure\",\"pseudoCode\":\"The Simplify Symbolic Expression task will be inserted here with Method set to 'Combine'\",\"appConfig\":{\"appIdentifier\":\"matlab.internal.symbolic.task.Simplify\",\"runOnInsert\":true},\"appState\":{\"Expression\":\"f\",\"DisplayExpression\":false,\"Method\":\"combine\"}},{\"entryType\":\"task\",\"ID\":\"taskSimplifyExpand\",\"text\":\"Expand expression\",\"description\":\"Write each element of expression as product of its factors\",\"pseudoCode\":\"The Simplify Symbolic Expression task will be inserted here with Method set to 'Expand'\",\"appConfig\":{\"appIdentifier\":\"matlab.internal.symbolic.task.Simplify\",\"runOnInsert\":true},\"appState\":{\"Expression\":\"f\",\"DisplayExpression\":false,\"Method\":\"expand\"}},{\"entryType\":\"task\",\"ID\":\"taskSimplifyRewrite\",\"text\":\"Rewrite expression\",\"description\":\"Rewrite expression in terms of specific function\",\"pseudoCode\":\"The Simplify Symbolic Expression task will be inserted here with Method set to 'Rewrite'\",\"appConfig\":{\"appIdentifier\":\"matlab.internal.symbolic.task.Simplify\",\"runOnInsert\":true},\"appState\":{\"Expression\":\"f\",\"DisplayExpression\":false,\"Method\":\"rewrite\"}},{\"entryType\":\"task\",\"ID\":\"taskSimplifySimplify\",\"text\":\"Simplify expression\",\"description\":\"Simplify each element of matrix or expression\",\"pseudoCode\":\"The Simplify Symbolic Expression task will be inserted here with Method set to 'Simplify'\",\"appConfig\":{\"appIdentifier\":\"matlab.internal.symbolic.task.Simplify\",\"runOnInsert\":true},\"appState\":{\"Expression\":\"f\",\"DisplayExpression\":false,\"Method\":\"simplify\"}},{\"entryType\":\"task\",\"ID\":\"taskSimplifySimplifyFraction\",\"text\":\"Simplify fractions\",\"description\":\"Compute simplified form of rational expression\",\"pseudoCode\":\"The Simplify Symbolic Expression task will be inserted here with Method set to 'Simplify Fraction'\",\"appConfig\":{\"appIdentifier\":\"matlab.internal.symbolic.task.Simplify\",\"runOnInsert\":true},\"appState\":{\"Expression\":\"f\",\"DisplayExpression\":false,\"Method\":\"simplifyFraction\"}}]},{\"entryType\":\"menu\",\"ID\":\"menuEquation\",\"text\":\"Solving equations\",\"description\":\"Solving and rewriting equations\",\"children\":[{\"entryType\":\"task\",\"ID\":\"taskSolve\",\"text\":\"Solve equation analytically\",\"description\":\"Compute analytical solution of algebraic equation\",\"pseudoCode\":\"The Solve Symbolic Equation task will be inserted here\",\"appConfig\":{\"appIdentifier\":\"matlab.internal.symbolic.task.Solve\",\"runOnInsert\":true},\"appState\":{\"Equation\":\"f\",\"DisplayEquation\":false,\"Variables\":\"b\",\"VariablesInEquation\":\"b\",\"VariablesItems\":[\"b\"]}},{\"entryType\":\"function\",\"ID\":\"vpasolve\",\"text\":\"Solve equation numerically\",\"description\":\"Compute numeric solution of algebraic equation using variable precision floating point arithmetic\",\"code\":\"vpasolve(f,b)\",\"runOnInsert\":true,\"nargOut\":1}]}]\n",
       "    </annotation>\n",
       "  </semantics>\n",
       "</math>\n"
      ]
     },
     "execution_count": 5,
     "metadata": {},
     "output_type": "execute_result"
    }
   ],
   "source": [
    "syms b;\n",
    "f(b) = b^2"
   ]
  },
  {
   "cell_type": "code",
   "execution_count": 11,
   "id": "06565501-a22f-4027-bdc9-1f64ba703f70",
   "metadata": {},
   "outputs": [
    {
     "data": {
      "text/latex": [
       "ans =\\begin{flalign}&\\ \\displaystyle{}\\int_{0}^{\\infty } f\\left(x\\right) \\,d x&\\end{flalign}"
      ],
      "text/plain": [
       "\\int_{0}^{\\infty } f\\left(x\\right) \\,d x"
      ]
     },
     "execution_count": 11,
     "metadata": {},
     "output_type": "execute_result"
    }
   ],
   "source": [
    "str2sym(\"int(f(x),x,0,Inf)\")"
   ]
  }
 ],
 "metadata": {
  "kernelspec": {
   "display_name": "MATLAB Kernel",
   "language": "matlab",
   "name": "jupyter_matlab_kernel"
  },
  "language_info": {
   "file_extension": ".m",
   "mimetype": "text/x-matlab",
   "name": "matlab"
  }
 },
 "nbformat": 4,
 "nbformat_minor": 5
}
