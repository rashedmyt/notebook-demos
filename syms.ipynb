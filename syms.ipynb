{
 "cells": [
  {
   "cell_type": "code",
   "execution_count": 2,
   "id": "e5a1df91-97fa-4bb5-bbd2-735bfe2664ff",
   "metadata": {
    "tags": []
   },
   "outputs": [
    {
     "data": {
      "text/markdown": [
       "a =$\\\\\\ \\displaystyle{}{\\mathrm{e}}^b$"
      ]
     },
     "execution_count": 2,
     "metadata": {},
     "output_type": "execute_result"
    }
   ],
   "source": [
    "syms a b\n",
    "a = exp(b)"
   ]
  },
  {
   "cell_type": "code",
   "execution_count": 3,
   "id": "5dd386d0-16bb-41ed-b8e6-e635532bb18d",
   "metadata": {
    "tags": []
   },
   "outputs": [
    {
     "data": {
      "text/markdown": [
       "ans =$\\\\\\ \\displaystyle{}\\int_0^{\\infty } f\\left(x\\right)\\;\\textrm{d}x$"
      ]
     },
     "execution_count": 3,
     "metadata": {},
     "output_type": "execute_result"
    }
   ],
   "source": [
    "str2sym(\"int(f(x),x,0,Inf)\")"
   ]
  },
  {
   "cell_type": "code",
   "execution_count": 5,
   "id": "d17b3389-b6e9-45dc-8e14-ae260239af67",
   "metadata": {
    "tags": []
   },
   "outputs": [
    {
     "data": {
      "text/markdown": [
       "x =$\\\\\\ \\displaystyle{}\\left(\\begin{array}{c}\n",
       "x_1 \\\\\n",
       "x_2 \n",
       "\\end{array}\\right)$"
      ]
     },
     "execution_count": 5,
     "metadata": {},
     "output_type": "execute_result"
    }
   ],
   "source": [
    "syms x1 x2 real\n",
    "x = [x1;x2]"
   ]
  },
  {
   "cell_type": "code",
   "execution_count": 4,
   "id": "c944b87a-3bbb-4b8f-a193-15938691e8bb",
   "metadata": {},
   "outputs": [
    {
     "data": {
      "text/markdown": [
       "f(b) =$\\\\\\ \\displaystyle{}b^2$"
      ]
     },
     "execution_count": 4,
     "metadata": {},
     "output_type": "execute_result"
    }
   ],
   "source": [
    "syms b;\n",
    "f(b) = b^2"
   ]
  },
  {
   "cell_type": "code",
   "execution_count": 6,
   "id": "06565501-a22f-4027-bdc9-1f64ba703f70",
   "metadata": {},
   "outputs": [
    {
     "data": {
      "text/markdown": [
       "f =$\\\\\\ \\displaystyle{}\\log \\left({{\\left(x_1 -\\frac{4}{3}\\right)}}^2 +3\\,{{\\left(-{x_1 }^3 +x_1 +x_2 \\right)}}^2 +1\\right)$"
      ]
     },
     "execution_count": 6,
     "metadata": {},
     "output_type": "execute_result"
    }
   ],
   "source": [
    "f = log(1 + 3*(x2 - (x1^3 - x1))^2 + (x1 - 4/3)^2)"
   ]
  },
  {
   "cell_type": "code",
   "execution_count": 7,
   "id": "e60f6663-8245-4d01-8c1a-1c98394b7ca7",
   "metadata": {},
   "outputs": [
    {
     "data": {
      "text/markdown": [
       "gradf =$\\\\\\ \\displaystyle{}\\begin{array}{l}\n",
       "\\left(\\begin{array}{c}\n",
       "-\\frac{6\\,{\\left(3\\,{x_1 }^2 -1\\right)}\\,{\\left(-{x_1 }^3 +x_1 +x_2 \\right)}-2\\,x_1 +\\frac{8}{3}}{\\sigma_1 }\\\\\n",
       "\\frac{-6\\,{x_1 }^3 +6\\,x_1 +6\\,x_2 }{\\sigma_1 }\n",
       "\\end{array}\\right)\\\\\n",
       "\\mathrm{}\\\\\n",
       "\\textrm{where}\\\\\n",
       "\\mathrm{}\\\\\n",
       "\\;\\;\\sigma_1 ={{\\left(x_1 -\\frac{4}{3}\\right)}}^2 +3\\,{{\\left(-{x_1 }^3 +x_1 +x_2 \\right)}}^2 +1\n",
       "\\end{array}$"
      ]
     },
     "execution_count": 7,
     "metadata": {},
     "output_type": "execute_result"
    }
   ],
   "source": [
    "gradf = jacobian(f,x).' % column gradf"
   ]
  },
  {
   "cell_type": "code",
   "execution_count": 8,
   "id": "a38f7f67-35c4-4df4-9eb1-5e7aac1b85d7",
   "metadata": {},
   "outputs": [
    {
     "data": {
      "text/markdown": [
       "hessf =$\\\\\\ \\displaystyle{}\\begin{array}{l}\n",
       "\\left(\\begin{array}{cc}\n",
       "\\frac{6\\,{{\\left(3\\,{x_1 }^2 -1\\right)}}^2 -36\\,x_1 \\,{\\left(-{x_1 }^3 +x_1 +x_2 \\right)}+2}{\\sigma_2 }-\\frac{{\\sigma_3 }^2 }{{\\sigma_2 }^2 } & \\sigma_1 \\\\\n",
       "\\sigma_1  & \\frac{6}{\\sigma_2 }-\\frac{{{\\left(-6\\,{x_1 }^3 +6\\,x_1 +6\\,x_2 \\right)}}^2 }{{\\sigma_2 }^2 }\n",
       "\\end{array}\\right)\\\\\n",
       "\\mathrm{}\\\\\n",
       "\\textrm{where}\\\\\n",
       "\\mathrm{}\\\\\n",
       "\\;\\;\\sigma_1 =\\frac{{\\left(-6\\,{x_1 }^3 +6\\,x_1 +6\\,x_2 \\right)}\\,\\sigma_3 }{{\\sigma_2 }^2 }-\\frac{18\\,{x_1 }^2 -6}{\\sigma_2 }\\\\\n",
       "\\mathrm{}\\\\\n",
       "\\;\\;\\sigma_2 ={{\\left(x_1 -\\frac{4}{3}\\right)}}^2 +3\\,{{\\left(-{x_1 }^3 +x_1 +x_2 \\right)}}^2 +1\\\\\n",
       "\\mathrm{}\\\\\n",
       "\\;\\;\\sigma_3 =6\\,{\\left(3\\,{x_1 }^2 -1\\right)}\\,{\\left(-{x_1 }^3 +x_1 +x_2 \\right)}-2\\,x_1 +\\frac{8}{3}\n",
       "\\end{array}$"
      ]
     },
     "execution_count": 8,
     "metadata": {},
     "output_type": "execute_result"
    }
   ],
   "source": [
    "hessf = jacobian(gradf,x)"
   ]
  },
  {
   "cell_type": "code",
   "execution_count": 9,
   "id": "8af91df8-6649-42ca-adf2-e4c459780c9c",
   "metadata": {},
   "outputs": [
    {
     "data": {
      "text/markdown": [
       "s =$\\\\\\ \\displaystyle{}{{\\left({{\\left(a+\\frac{1}{{{\\left(a+\\frac{1}{a}+1\\right)}}^2 }+1\\right)}}^2 +\\frac{1}{{{\\left(\\frac{1}{{{\\left(a+\\frac{1}{{{\\left(a+\\frac{1}{a}+1\\right)}}^2 }+1\\right)}}^2 }+{{\\left(a+\\frac{1}{{{\\left(a+\\frac{1}{a}+1\\right)}}^2 }+1\\right)}}^2 +1\\right)}}^2 }+1\\right)}}^2$"
      ]
     },
     "execution_count": 9,
     "metadata": {},
     "output_type": "execute_result"
    }
   ],
   "source": [
    "syms a\n",
    "g = @(x) (1+1/x+x)^2;\n",
    "f = @(x) (1+1/g(x)+x)^2;\n",
    "s = f(f(a))"
   ]
  },
  {
   "cell_type": "code",
   "execution_count": null,
   "id": "69da98bb-9978-4925-9477-a83d38de1745",
   "metadata": {},
   "outputs": [],
   "source": []
  }
 ],
 "metadata": {
  "kernelspec": {
   "display_name": "MATLAB Kernel",
   "language": "matlab",
   "name": "jupyter_matlab_kernel"
  },
  "language_info": {
   "file_extension": ".m",
   "mimetype": "text/x-matlab",
   "name": "matlab"
  }
 },
 "nbformat": 4,
 "nbformat_minor": 5
}
